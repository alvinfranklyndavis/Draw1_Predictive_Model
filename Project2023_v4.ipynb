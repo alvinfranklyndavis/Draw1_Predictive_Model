{
  "nbformat": 4,
  "nbformat_minor": 0,
  "metadata": {
    "colab": {
      "provenance": [],
      "authorship_tag": "ABX9TyM8WpCMjra3nfqh4GnM43IV",
      "include_colab_link": true
    },
    "kernelspec": {
      "name": "python3",
      "display_name": "Python 3"
    },
    "language_info": {
      "name": "python"
    }
  },
  "cells": [
    {
      "cell_type": "markdown",
      "metadata": {
        "id": "view-in-github",
        "colab_type": "text"
      },
      "source": [
        "<a href=\"https://colab.research.google.com/github/alvinfranklyndavis/Project2023_v3/blob/main/Project2023_v4.ipynb\" target=\"_parent\"><img src=\"https://colab.research.google.com/assets/colab-badge.svg\" alt=\"Open In Colab\"/></a>"
      ]
    },
    {
      "cell_type": "code",
      "execution_count": 22,
      "metadata": {
        "colab": {
          "base_uri": "https://localhost:8080/"
        },
        "id": "K5_mSX_NpQgo",
        "outputId": "b153f01b-6670-4076-eaf0-2d8d3a3ecc6f"
      },
      "outputs": [
        {
          "output_type": "stream",
          "name": "stderr",
          "text": [
            "Downloading...\n",
            "From: https://drive.google.com/uc?id=1o87z4evvCLwBtqX8ocZl3I2nIDYS8mtH\n",
            "To: /content/Training_Testing_Hybrid_Mod.csv\n",
            "100%|██████████| 71.9k/71.9k [00:00<00:00, 43.2MB/s]"
          ]
        },
        {
          "output_type": "stream",
          "name": "stdout",
          "text": [
            "       Date  Day of the Week  Morning  Prev_Week  Rep_Prev_Week  \\\n",
            "0  8/1/2018                3       19          7              0   \n",
            "1  8/2/2018                4       31         11              0   \n",
            "2  8/3/2018                5       15         19              0   \n",
            "3  8/4/2018                6       31         35              0   \n",
            "4  8/6/2018                1       31         18              0   \n",
            "\n",
            "   Rep_Prev_Entry  Afternoon  Prev_Week.1  Rep_Prev_Week.1  Rep_Prev_Entry.1  \\\n",
            "0               0         14           13                0                 0   \n",
            "1               0          3           21                0                 0   \n",
            "2               0          9           19                0                 0   \n",
            "3               0         21           20                0                 0   \n",
            "4               0         31           30                0                 1   \n",
            "\n",
            "   Evening  Prev_Week.2  Rep_Prev_Week.2  Rep_Prev_Entry.2  Night  \\\n",
            "0       33           28                0                 0      9   \n",
            "1       35           31                0                 0     12   \n",
            "2       23            1                0                 0     35   \n",
            "3       29           27                0                 0     16   \n",
            "4       15           14                0                 0     18   \n",
            "\n",
            "   Prev_Week.3  Rep_Prev_Week.3  Rep_Prev_Entry.3  \n",
            "0            7                0                 0  \n",
            "1           11                0                 0  \n",
            "2           19                0                 0  \n",
            "3           35                0                 0  \n",
            "4           18                1                 0  \n",
            "Date                object\n",
            "Day of the Week      int64\n",
            "Morning              int64\n",
            "Prev_Week            int64\n",
            "Rep_Prev_Week        int64\n",
            "Rep_Prev_Entry       int64\n",
            "Afternoon            int64\n",
            "Prev_Week.1          int64\n",
            "Rep_Prev_Week.1      int64\n",
            "Rep_Prev_Entry.1     int64\n",
            "Evening              int64\n",
            "Prev_Week.2          int64\n",
            "Rep_Prev_Week.2      int64\n",
            "Rep_Prev_Entry.2     int64\n",
            "Night                int64\n",
            "Prev_Week.3          int64\n",
            "Rep_Prev_Week.3      int64\n",
            "Rep_Prev_Entry.3     int64\n",
            "dtype: object\n"
          ]
        },
        {
          "output_type": "stream",
          "name": "stderr",
          "text": [
            "\n"
          ]
        }
      ],
      "source": [
        "import pandas as pd\n",
        "import gdown\n",
        "import numpy as np\n",
        "import matplotlib.pyplot as plt\n",
        "from sklearn.model_selection import train_test_split\n",
        "from sklearn.impute import SimpleImputer\n",
        "from sklearn.ensemble import RandomForestRegressor\n",
        "from sklearn.metrics import mean_squared_error\n",
        "from sklearn.preprocessing import StandardScaler  # For feature scaling if needed\n",
        "from sklearn.pipeline import make_pipeline  # For creating a pipeline if needed\n",
        "\n",
        "# Define the URL of the CSV file\n",
        "csv_url = 'https://drive.google.com/uc?id=1o87z4evvCLwBtqX8ocZl3I2nIDYS8mtH'\n",
        "\n",
        "# Define the local file path to save the CSV\n",
        "csv_path = 'Training_Testing_Hybrid_Mod.csv'\n",
        "\n",
        "# Download the CSV file from the Google Drive link\n",
        "gdown.download(csv_url, csv_path, quiet=False)\n",
        "\n",
        "# Load the dataset into a Pandas DataFrame\n",
        "df = pd.read_csv(csv_path)\n",
        "\n",
        "# Display the first few rows and data types\n",
        "print(df.head())\n",
        "print(df.dtypes)"
      ]
    },
    {
      "cell_type": "code",
      "source": [
        "# Convert 'Date' column to datetime type\n",
        "df['Date'] = pd.to_datetime(df['Date'])\n",
        "\n",
        "# Extract relevant date features\n",
        "df['Year'] = df['Date'].dt.year\n",
        "df['Month'] = df['Date'].dt.month\n",
        "df['Day'] = df['Date'].dt.day\n",
        "\n",
        "# Drop the original 'Date' column\n",
        "df = df.drop(columns=['Date'])\n",
        "\n",
        "# Create Target Variable columns\n",
        "df['Prediction1'] = np.nan\n",
        "df['Prediction2'] = np.nan\n",
        "df['Prediction3'] = np.nan\n",
        "df['Prediction4'] = np.nan\n",
        "\n",
        "# Display the updated DataFrame with target variables\n",
        "print(df.head())\n",
        "print(df.dtypes)"
      ],
      "metadata": {
        "colab": {
          "base_uri": "https://localhost:8080/"
        },
        "id": "_kLEMu5Qqp4s",
        "outputId": "04eab567-4756-44ca-a2ba-4ebd3fa2160f"
      },
      "execution_count": 23,
      "outputs": [
        {
          "output_type": "stream",
          "name": "stdout",
          "text": [
            "   Day of the Week  Morning  Prev_Week  Rep_Prev_Week  Rep_Prev_Entry  \\\n",
            "0                3       19          7              0               0   \n",
            "1                4       31         11              0               0   \n",
            "2                5       15         19              0               0   \n",
            "3                6       31         35              0               0   \n",
            "4                1       31         18              0               0   \n",
            "\n",
            "   Afternoon  Prev_Week.1  Rep_Prev_Week.1  Rep_Prev_Entry.1  Evening  ...  \\\n",
            "0         14           13                0                 0       33  ...   \n",
            "1          3           21                0                 0       35  ...   \n",
            "2          9           19                0                 0       23  ...   \n",
            "3         21           20                0                 0       29  ...   \n",
            "4         31           30                0                 1       15  ...   \n",
            "\n",
            "   Prev_Week.3  Rep_Prev_Week.3  Rep_Prev_Entry.3  Year  Month  Day  \\\n",
            "0            7                0                 0  2018      8    1   \n",
            "1           11                0                 0  2018      8    2   \n",
            "2           19                0                 0  2018      8    3   \n",
            "3           35                0                 0  2018      8    4   \n",
            "4           18                1                 0  2018      8    6   \n",
            "\n",
            "   Prediction1  Prediction2  Prediction3  Prediction4  \n",
            "0          NaN          NaN          NaN          NaN  \n",
            "1          NaN          NaN          NaN          NaN  \n",
            "2          NaN          NaN          NaN          NaN  \n",
            "3          NaN          NaN          NaN          NaN  \n",
            "4          NaN          NaN          NaN          NaN  \n",
            "\n",
            "[5 rows x 24 columns]\n",
            "Day of the Week       int64\n",
            "Morning               int64\n",
            "Prev_Week             int64\n",
            "Rep_Prev_Week         int64\n",
            "Rep_Prev_Entry        int64\n",
            "Afternoon             int64\n",
            "Prev_Week.1           int64\n",
            "Rep_Prev_Week.1       int64\n",
            "Rep_Prev_Entry.1      int64\n",
            "Evening               int64\n",
            "Prev_Week.2           int64\n",
            "Rep_Prev_Week.2       int64\n",
            "Rep_Prev_Entry.2      int64\n",
            "Night                 int64\n",
            "Prev_Week.3           int64\n",
            "Rep_Prev_Week.3       int64\n",
            "Rep_Prev_Entry.3      int64\n",
            "Year                  int64\n",
            "Month                 int64\n",
            "Day                   int64\n",
            "Prediction1         float64\n",
            "Prediction2         float64\n",
            "Prediction3         float64\n",
            "Prediction4         float64\n",
            "dtype: object\n"
          ]
        }
      ]
    },
    {
      "cell_type": "code",
      "source": [
        "# Check for missing values\n",
        "missing_values = df.isnull().sum()\n",
        "\n",
        "# Display the count of missing values for each column\n",
        "print(\"Missing Values:\\n\", missing_values)\n",
        "\n",
        "# Identify missing values in target variables\n",
        "missing_values_targets = df[['Prediction1', 'Prediction2', 'Prediction3', 'Prediction4']].isnull().sum()\n",
        "print(\"Missing Values in Target Variables:\\n\", missing_values_targets)\n",
        "\n",
        "# Iterate through each row with missing values in target variables\n",
        "for index, row in df[df[['Prediction1', 'Prediction2', 'Prediction3', 'Prediction4']].isnull().any(axis=1)].iterrows():\n",
        "    # Fill missing values with the corresponding historical entry\n",
        "    df.at[index, 'Prediction1'] = df.at[index, 'Morning']\n",
        "    df.at[index, 'Prediction2'] = df.at[index, 'Afternoon']\n",
        "    df.at[index, 'Prediction3'] = df.at[index, 'Evening']\n",
        "    df.at[index, 'Prediction4'] = df.at[index, 'Night']\n",
        "\n",
        "# Display the updated DataFrame\n",
        "print(df.head())\n"
      ],
      "metadata": {
        "colab": {
          "base_uri": "https://localhost:8080/"
        },
        "id": "_-HHNFfZua6v",
        "outputId": "5ebd8264-502b-4322-f734-54a2d83a1a71"
      },
      "execution_count": 24,
      "outputs": [
        {
          "output_type": "stream",
          "name": "stdout",
          "text": [
            "Missing Values:\n",
            " Day of the Week        0\n",
            "Morning                0\n",
            "Prev_Week              0\n",
            "Rep_Prev_Week          0\n",
            "Rep_Prev_Entry         0\n",
            "Afternoon              0\n",
            "Prev_Week.1            0\n",
            "Rep_Prev_Week.1        0\n",
            "Rep_Prev_Entry.1       0\n",
            "Evening                0\n",
            "Prev_Week.2            0\n",
            "Rep_Prev_Week.2        0\n",
            "Rep_Prev_Entry.2       0\n",
            "Night                  0\n",
            "Prev_Week.3            0\n",
            "Rep_Prev_Week.3        0\n",
            "Rep_Prev_Entry.3       0\n",
            "Year                   0\n",
            "Month                  0\n",
            "Day                    0\n",
            "Prediction1         1409\n",
            "Prediction2         1409\n",
            "Prediction3         1409\n",
            "Prediction4         1409\n",
            "dtype: int64\n",
            "Missing Values in Target Variables:\n",
            " Prediction1    1409\n",
            "Prediction2    1409\n",
            "Prediction3    1409\n",
            "Prediction4    1409\n",
            "dtype: int64\n",
            "   Day of the Week  Morning  Prev_Week  Rep_Prev_Week  Rep_Prev_Entry  \\\n",
            "0                3       19          7              0               0   \n",
            "1                4       31         11              0               0   \n",
            "2                5       15         19              0               0   \n",
            "3                6       31         35              0               0   \n",
            "4                1       31         18              0               0   \n",
            "\n",
            "   Afternoon  Prev_Week.1  Rep_Prev_Week.1  Rep_Prev_Entry.1  Evening  ...  \\\n",
            "0         14           13                0                 0       33  ...   \n",
            "1          3           21                0                 0       35  ...   \n",
            "2          9           19                0                 0       23  ...   \n",
            "3         21           20                0                 0       29  ...   \n",
            "4         31           30                0                 1       15  ...   \n",
            "\n",
            "   Prev_Week.3  Rep_Prev_Week.3  Rep_Prev_Entry.3  Year  Month  Day  \\\n",
            "0            7                0                 0  2018      8    1   \n",
            "1           11                0                 0  2018      8    2   \n",
            "2           19                0                 0  2018      8    3   \n",
            "3           35                0                 0  2018      8    4   \n",
            "4           18                1                 0  2018      8    6   \n",
            "\n",
            "   Prediction1  Prediction2  Prediction3  Prediction4  \n",
            "0         19.0         14.0         33.0          9.0  \n",
            "1         31.0          3.0         35.0         12.0  \n",
            "2         15.0          9.0         23.0         35.0  \n",
            "3         31.0         21.0         29.0         16.0  \n",
            "4         31.0         31.0         15.0         18.0  \n",
            "\n",
            "[5 rows x 24 columns]\n"
          ]
        }
      ]
    },
    {
      "cell_type": "code",
      "source": [
        "# Split the data into features (X) and target variables (y)\n",
        "X = df[['Day of the Week', 'Morning', 'Prev_Week', 'Rep_Prev_Week', 'Rep_Prev_Entry', 'Afternoon', 'Prev_Week.1', 'Rep_Prev_Week.1', 'Rep_Prev_Entry.1', 'Evening', 'Prev_Week.2', 'Rep_Prev_Week.2', 'Rep_Prev_Entry.2', 'Night', 'Prev_Week.3', 'Rep_Prev_Week.3', 'Rep_Prev_Entry.3', 'Year', 'Month', 'Day']]\n",
        "y = df[['Prediction1', 'Prediction2', 'Prediction3', 'Prediction4']]\n",
        "\n",
        "# Use an 80/20 split for training and testing sets\n",
        "X_train, X_test, y_train, y_test = train_test_split(X, y, test_size=0.2, random_state=42)\n",
        "\n",
        "# Confirm the shapes of X_train, X_test, y_train, and y_test\n",
        "print(\"X_train shape:\", X_train.shape)\n",
        "print(\"X_test shape:\", X_test.shape)\n",
        "print(\"y_train shape:\", y_train.shape)\n",
        "print(\"y_test shape:\", y_test.shape)\n"
      ],
      "metadata": {
        "colab": {
          "base_uri": "https://localhost:8080/"
        },
        "id": "v5mRBmq7yClP",
        "outputId": "da2b2ffc-14bd-4d99-9ee9-ad82884a0b3a"
      },
      "execution_count": 25,
      "outputs": [
        {
          "output_type": "stream",
          "name": "stdout",
          "text": [
            "X_train shape: (1127, 20)\n",
            "X_test shape: (282, 20)\n",
            "y_train shape: (1127, 4)\n",
            "y_test shape: (282, 4)\n"
          ]
        }
      ]
    },
    {
      "cell_type": "code",
      "source": [
        "# Check for missing values\n",
        "missing_values = df.isnull().sum()\n",
        "\n",
        "# Display the count of missing values for each column\n",
        "print(\"Missing Values:\\n\", missing_values)\n",
        "\n",
        "# Display the count of missing values in the training sets\n",
        "print(\"Missing Values in X_train:\\n\", X_train.isnull().sum())\n",
        "print(\"\\nMissing Values in y_train:\\n\", y_train.isnull().sum())\n"
      ],
      "metadata": {
        "colab": {
          "base_uri": "https://localhost:8080/"
        },
        "id": "P6oKQA3ZBP65",
        "outputId": "44463c9a-7bca-4ac1-c298-b05ce45fd945"
      },
      "execution_count": 26,
      "outputs": [
        {
          "output_type": "stream",
          "name": "stdout",
          "text": [
            "Missing Values:\n",
            " Day of the Week     0\n",
            "Morning             0\n",
            "Prev_Week           0\n",
            "Rep_Prev_Week       0\n",
            "Rep_Prev_Entry      0\n",
            "Afternoon           0\n",
            "Prev_Week.1         0\n",
            "Rep_Prev_Week.1     0\n",
            "Rep_Prev_Entry.1    0\n",
            "Evening             0\n",
            "Prev_Week.2         0\n",
            "Rep_Prev_Week.2     0\n",
            "Rep_Prev_Entry.2    0\n",
            "Night               0\n",
            "Prev_Week.3         0\n",
            "Rep_Prev_Week.3     0\n",
            "Rep_Prev_Entry.3    0\n",
            "Year                0\n",
            "Month               0\n",
            "Day                 0\n",
            "Prediction1         0\n",
            "Prediction2         0\n",
            "Prediction3         0\n",
            "Prediction4         0\n",
            "dtype: int64\n",
            "Missing Values in X_train:\n",
            " Day of the Week     0\n",
            "Morning             0\n",
            "Prev_Week           0\n",
            "Rep_Prev_Week       0\n",
            "Rep_Prev_Entry      0\n",
            "Afternoon           0\n",
            "Prev_Week.1         0\n",
            "Rep_Prev_Week.1     0\n",
            "Rep_Prev_Entry.1    0\n",
            "Evening             0\n",
            "Prev_Week.2         0\n",
            "Rep_Prev_Week.2     0\n",
            "Rep_Prev_Entry.2    0\n",
            "Night               0\n",
            "Prev_Week.3         0\n",
            "Rep_Prev_Week.3     0\n",
            "Rep_Prev_Entry.3    0\n",
            "Year                0\n",
            "Month               0\n",
            "Day                 0\n",
            "dtype: int64\n",
            "\n",
            "Missing Values in y_train:\n",
            " Prediction1    0\n",
            "Prediction2    0\n",
            "Prediction3    0\n",
            "Prediction4    0\n",
            "dtype: int64\n"
          ]
        }
      ]
    },
    {
      "cell_type": "code",
      "source": [
        "from sklearn.ensemble import RandomForestRegressor\n",
        "from xgboost import XGBRegressor\n",
        "from sklearn.ensemble import VotingRegressor\n",
        "\n",
        "# Initialize individual models\n",
        "rf_model = RandomForestRegressor(random_state=42, n_estimators=50)\n",
        "xgb_model = XGBRegressor(random_state=42, n_estimators=50, objective='reg:squarederror')\n",
        "\n",
        "# Create an ensemble model using VotingRegressor\n",
        "ensemble_model = VotingRegressor(estimators=[('rf', rf_model), ('xgb', xgb_model)])\n",
        "\n",
        "# Step 1: Initial Training with warm_start\n",
        "# Train the RandomForestRegressor with a small number of trees using placeholder values\n",
        "# Adjust the number of trees and other hyperparameters as needed\n",
        "rf_model.fit(X_train, y_train.iloc[:, 0])\n",
        "\n",
        "# Evaluate its performance on the test set\n",
        "y_pred_initial = rf_model.predict(X_test.iloc[:, :20])  # Assuming the first target variable is Prediction1\n",
        "mse_initial = mean_squared_error(y_test.iloc[:, 0], y_pred_initial)\n",
        "print(\"Mean Squared Error after Initial Training:\", mse_initial)\n",
        "\n",
        "# Step 2: Transition to Two-Step Approach\n",
        "# Randomize the placeholder values for each target variable\n",
        "y_train_randomized = y_train.apply(np.random.permutation, axis=0)\n",
        "\n",
        "# Train the models on the randomized values\n",
        "rf_model.fit(X_train, y_train_randomized.iloc[:, 0])\n",
        "xgb_model.fit(X_train, y_train_randomized.iloc[:, 1])\n",
        "\n",
        "# Evaluate their performance on the test set\n",
        "y_pred_rf_randomized = rf_model.predict(X_test.iloc[:, :20])  # Assuming the first target variable is Prediction1\n",
        "y_pred_xgb_randomized = xgb_model.predict(X_test)\n",
        "mse_rf_randomized = mean_squared_error(y_test.iloc[:, 0], y_pred_rf_randomized)\n",
        "mse_xgb_randomized = mean_squared_error(y_test.iloc[:, 1], y_pred_xgb_randomized)\n",
        "print(\"Mean Squared Error after Training with Randomized Placeholders (RF):\", mse_rf_randomized)\n",
        "print(\"Mean Squared Error after Training with Randomized Placeholders (XGB):\", mse_xgb_randomized)\n",
        "\n",
        "# Step 3: Fine-Tuning with Actual Target Variables\n",
        "# Fine-tune the models using the actual values\n",
        "rf_model.fit(X_train, y_train.iloc[:, 0])\n",
        "xgb_model.fit(X_train, y_train.iloc[:, 1])\n",
        "\n",
        "# Evaluate their final performance on the test set\n",
        "y_pred_rf_final = rf_model.predict(X_test.iloc[:, :20])  # Assuming the first target variable is Prediction1\n",
        "y_pred_xgb_final = xgb_model.predict(X_test)\n",
        "mse_rf_final = mean_squared_error(y_test.iloc[:, 0], y_pred_rf_final)\n",
        "mse_xgb_final = mean_squared_error(y_test.iloc[:, 1], y_pred_xgb_final)\n",
        "print(\"Mean Squared Error after Fine-Tuning with Actual Target Variables (RF):\", mse_rf_final)\n",
        "print(\"Mean Squared Error after Fine-Tuning with Actual Target Variables (XGB):\", mse_xgb_final)\n"
      ],
      "metadata": {
        "colab": {
          "base_uri": "https://localhost:8080/"
        },
        "id": "UYjjn1kVXa1t",
        "outputId": "1539207e-df29-4f0f-fc5b-5379587b77a3"
      },
      "execution_count": 28,
      "outputs": [
        {
          "output_type": "stream",
          "name": "stdout",
          "text": [
            "Mean Squared Error after Initial Training: 0.0\n",
            "Mean Squared Error after Training with Randomized Placeholders (RF): 115.22185106382977\n",
            "Mean Squared Error after Training with Randomized Placeholders (XGB): 143.18325874515386\n",
            "Mean Squared Error after Fine-Tuning with Actual Target Variables (RF): 0.0\n",
            "Mean Squared Error after Fine-Tuning with Actual Target Variables (XGB): 1.2036116821888e-08\n"
          ]
        }
      ]
    }
  ]
}